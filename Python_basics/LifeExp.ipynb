{
 "cells": [
  {
   "cell_type": "code",
   "execution_count": 1,
   "metadata": {},
   "outputs": [],
   "source": [
    "# This is LifeExpPlot.py\n",
    "\n",
    "# importing packages\n",
    "\n",
    "import pandas as pd\n",
    "import matplotlib.pyplot as plt\n",
    "\n",
    "# Reading file\n",
    "my_file = pd.read_table(\"gapminder.txt\")\n",
    "\n",
    "#Subsetting Life Expectancy of Canada over a span of several years\n",
    "\n",
    "Canada = my_file.loc[my_file['country'] == \"Canada\", :]\n",
    "\n",
    "# Plotting\n",
    "Canada.plot.line(x = \"year\", y = \"lifeExp\", label = \"Life Expectancy\", figsize = (8, 6))\n",
    "plt.suptitle(\"Life Expectancy in Canada Over the Years\", fontsize = 20)\n",
    "plt.xlabel(\"Year\", fontsize = 16)\n",
    "plt.ylabel(\"Life Expectancy\", fontsize = 16)\n",
    "plt.savefig(\"PlotLifeExpectancy.png\")"
   ]
  },
  {
   "cell_type": "code",
   "execution_count": null,
   "metadata": {},
   "outputs": [],
   "source": []
  }
 ],
 "metadata": {
  "kernelspec": {
   "display_name": "Python 3",
   "language": "python",
   "name": "python3"
  },
  "language_info": {
   "codemirror_mode": {
    "name": "ipython",
    "version": 3
   },
   "file_extension": ".py",
   "mimetype": "text/x-python",
   "name": "python",
   "nbconvert_exporter": "python",
   "pygments_lexer": "ipython3",
   "version": "3.6.4"
  }
 },
 "nbformat": 4,
 "nbformat_minor": 2
}
